{
 "cells": [
  {
   "cell_type": "code",
   "execution_count": null,
   "id": "60150c03-a433-49af-afc1-aa68850263bb",
   "metadata": {},
   "outputs": [],
   "source": [
    "import numpy as np\n",
    "import cv2\n",
    "import os\n",
    "import matplotlib.pyplot as plt\n",
    "import matplotlib.image as mimg\n",
    "from pathlib import Path\n",
    "import random\n"
   ]
  },
  {
   "cell_type": "code",
   "execution_count": null,
   "id": "e76f72f8-98f4-4cfc-a2ca-4b0cef950952",
   "metadata": {},
   "outputs": [],
   "source": [
    "def crop_coord(img, iter_d, iter_e, iter_o, inter_c):\n",
    "    '''\n",
    "    Recortar imagen utilizando tecnicas de preprocesamiento\n",
    "    '''\n",
    "\n",
    "    gray = cv2.cvtColor(img,cv2.COLOR_RGB2GRAY)\n",
    "    blur = cv2.GaussianBlur(gray,(7,7),0)\n",
    "    _, thresh = cv2.threshold(blur,0,255,cv2.THRESH_BINARY_INV + cv2.THRESH_OTSU)\n",
    "    thresh = cv2.dilate(thresh, None, iterations = iter_d)\n",
    "    thresh = cv2.erode(thresh, None, iterations = iter_e)\n",
    "    kernel = np.ones((7, 7), np.uint8)\n",
    "    opened = cv2.morphologyEx(thresh, cv2.MORPH_OPEN, kernel, iterations=iter_o)\n",
    "    closed = cv2.morphologyEx(thresh, cv2.MORPH_CLOSE, kernel, iterations=iter_c)\n",
    "\n",
    "    edges = cv2.Canny(closed,107,255)\n",
    "    cnts = cv2.findContours(edges.copy(), cv2.RETR_EXTERNAL, cv2.CHAIN_APPROX_SIMPLE)\n",
    "    cnts = imutils.grab_contours(cnts)\n",
    "    c = max(cnts, key=cv2.contourArea)\n",
    "\n",
    "    x, y, w, h = cv2.boundingRect(c)\n",
    "    \n",
    "\n",
    "    return x,y,w,h\n",
    "    \n",
    "'''Probaré con los dos números para ver qué recortes se realizaron de forma incorrecta y veré la proporción de este nuevo dataset con el original. \n",
    "   Si no se han perdido muchos entonces emplearé ese.\n",
    "   También usaré el de 6 para comparar la precisión entre ambos\n",
    "'''\n",
    "\n",
    "def check_best_crop(img):\n",
    "    width, height = 0\n",
    "    x,y = 0\n",
    "    #Se itera hasta que el valor de iteraciones llegue a 40 o bien se cumpla la otra condición. Esto es para encontrar el mejor crop, que diga el recorte\n",
    "    iterations = 0\n",
    "    while w < 225 and h < 225 and iterations < 40:\n",
    "        dilate = random.randint(4,12)\n",
    "        erode = random.randint(4,12)\n",
    "        opened = random.randint(1,4)\n",
    "        closed = random.randint(1,4)\n",
    "\n",
    "        x_pos, y_pos, w, h, = crop_coord(img, iter_d = dilate, iter_e = erode, iter_o = opened, iter_c = closed)\n",
    "        width = w\n",
    "        height = h\n",
    "        x = x_pos\n",
    "        y = y_pos\n",
    "        iterations+= 1\n",
    "        if iterations >= 40:\n",
    "            return\n",
    "    return img[y:y+height,x:x+width]"
   ]
  }
 ],
 "metadata": {
  "kernelspec": {
   "display_name": "Python 3 (ipykernel)",
   "language": "python",
   "name": "python3"
  },
  "language_info": {
   "codemirror_mode": {
    "name": "ipython",
    "version": 3
   },
   "file_extension": ".py",
   "mimetype": "text/x-python",
   "name": "python",
   "nbconvert_exporter": "python",
   "pygments_lexer": "ipython3",
   "version": "3.12.3"
  }
 },
 "nbformat": 4,
 "nbformat_minor": 5
}
