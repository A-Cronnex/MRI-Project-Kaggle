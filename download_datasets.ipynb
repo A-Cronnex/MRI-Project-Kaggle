{
 "cells": [
  {
   "cell_type": "code",
   "execution_count": 3,
   "id": "4a21161e-51a9-42e8-8ba5-6a5ef0750d37",
   "metadata": {},
   "outputs": [],
   "source": [
    "import kagglehub\n",
    "\n",
    "#Descargar datasets\n",
    "path = kagglehub.dataset_download(\"sartajbhuvaji/brain-tumor-classification-mri\")\n",
    "path_2 = kagglehub.dataset_download(\"masoudnickparvar/brain-tumor-mri-dataset\")"
   ]
  },
  {
   "cell_type": "code",
   "execution_count": 4,
   "id": "8b443d3f-52c2-4c7f-b866-228722dea004",
   "metadata": {},
   "outputs": [
    {
     "data": {
      "text/plain": [
       "'/home/aaronhcd/.cache/kagglehub/datasets/sartajbhuvaji/brain-tumor-classification-mri/versions/2'"
      ]
     },
     "execution_count": 4,
     "metadata": {},
     "output_type": "execute_result"
    }
   ],
   "source": [
    "path"
   ]
  },
  {
   "cell_type": "code",
   "execution_count": 5,
   "id": "4072be8e-db13-426f-8ff1-90bb29c78ffb",
   "metadata": {},
   "outputs": [
    {
     "data": {
      "text/plain": [
       "'/home/aaronhcd/.cache/kagglehub/datasets/masoudnickparvar/brain-tumor-mri-dataset/versions/1'"
      ]
     },
     "execution_count": 5,
     "metadata": {},
     "output_type": "execute_result"
    }
   ],
   "source": [
    "path_2"
   ]
  },
  {
   "cell_type": "code",
   "execution_count": null,
   "id": "6b40cf04-5c41-48c5-8bc7-b06b42359cc5",
   "metadata": {},
   "outputs": [],
   "source": []
  }
 ],
 "metadata": {
  "kernelspec": {
   "display_name": "Python 3 (ipykernel)",
   "language": "python",
   "name": "python3"
  },
  "language_info": {
   "codemirror_mode": {
    "name": "ipython",
    "version": 3
   },
   "file_extension": ".py",
   "mimetype": "text/x-python",
   "name": "python",
   "nbconvert_exporter": "python",
   "pygments_lexer": "ipython3",
   "version": "3.12.3"
  }
 },
 "nbformat": 4,
 "nbformat_minor": 5
}
