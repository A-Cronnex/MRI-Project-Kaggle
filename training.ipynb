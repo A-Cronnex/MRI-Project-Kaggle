{
 "cells": [
  {
   "cell_type": "code",
   "execution_count": 9,
   "id": "f0cc27c5-300e-4ed3-ad4f-c99971d695e6",
   "metadata": {},
   "outputs": [],
   "source": [
    "import numpy as np\n",
    "import seaborn as sns\n",
    "import matplotlib.pyplot as plt\n",
    "import pandas as pd\n",
    "import cv2\n",
    "from skimage.filters import sobel\n",
    "from skimage.feature import graycomatrix, graycoprops\n",
    "import os"
   ]
  },
  {
   "cell_type": "markdown",
   "id": "08cd1051-c1d8-446d-abf9-888ae79336e2",
   "metadata": {},
   "source": [
    "# Proceso de Entrenamiento\n",
    "## Parte 1: Agregar las imágenes a un arreglo\n",
    "### En cuadernos de notas anteriores se realizó el proceso de preprocesamiento de datos necesario para poder aislar lo mayor posible al cerebro del resto del tejido circundante. Con las imágenes ya preprocesadas, estas pasan a la siguiente parte del pipeline. Estas imágenes serán convertidas a formato de openCV para que puedan ser leídas con facilidad. Este arreglo será transformado a un dataframe en los últimos pasos del pipeline."
   ]
  },
  {
   "cell_type": "code",
   "execution_count": 10,
   "id": "abfd4bad-fe5b-42a1-917c-c79fb0bba7e9",
   "metadata": {},
   "outputs": [
    {
     "name": "stdout",
     "output_type": "stream",
     "text": [
      "Imprimir la forma de cada arreglo\n",
      "train_images: (5465, 256, 256, 3) train_labels: (5465,) test_images: (1253, 256, 256, 3) test_labels: (1253,)\n"
     ]
    }
   ],
   "source": [
    "train_images = [] #Inicializar arreglos en cero\n",
    "train_labels = [] \n",
    "\n",
    "test_images = []\n",
    "test_labels = []\n",
    "\n",
    "from pathlib import Path\n",
    "\n",
    "path_train = Path(\"datasets/brain-tumor-mri-datasets/Training\")\n",
    "path_test = Path(\"datasets/brain-tumor-mri-datasets/Testing\")\n",
    "\n",
    "#Labels de entrenamiento\n",
    "for label in os.listdir(path_train):\n",
    "    for img in os.listdir(os.path.join(path_train,label)):\n",
    "        image = cv2.imread(os.path.join(path_train,label,img))\n",
    "        train_images.append(image)\n",
    "        train_labels.append(label)\n",
    "\n",
    "\n",
    "#Hacer lo mismo con los de prueba\n",
    "for label in os.listdir(path_test):\n",
    "    for img in os.listdir(os.path.join(path_test,label)):\n",
    "        image = cv2.imread(os.path.join(path_test,label,img))\n",
    "        test_images.append(image)\n",
    "        test_labels.append(label)\n",
    "\n",
    "train_images = np.array(train_images)\n",
    "train_labels = np.array(train_labels)\n",
    "test_images = np.array(test_images)\n",
    "test_labels = np.array(test_labels)\n",
    "                           \n",
    "print(\"Imprimir la forma de cada arreglo\")\n",
    "print(f\"train_images: {train_images.shape} train_labels: {train_labels.shape} test_images: {test_images.shape} test_labels: {test_labels.shape}\")\n"
   ]
  },
  {
   "cell_type": "code",
   "execution_count": 16,
   "id": "3009ddda-a160-4946-8b90-2f2382e01aca",
   "metadata": {},
   "outputs": [
    {
     "data": {
      "text/plain": [
       "array([0, 1, 2, 3])"
      ]
     },
     "execution_count": 16,
     "metadata": {},
     "output_type": "execute_result"
    }
   ],
   "source": [
    "#Transformar los labels de forma codificada\n",
    "from sklearn.preprocessing import LabelEncoder\n",
    "le = LabelEncoder()\n",
    "le.fit(train_labels)\n",
    "train_labels_encoded = le.transform(train_labels)\n",
    "le.fit(test_labels)\n",
    "test_labels_encoded = le.transform(test_labels)"
   ]
  },
  {
   "cell_type": "markdown",
   "id": "ab9d74ca-95ea-4a8b-975f-5e43a9b85ded",
   "metadata": {},
   "source": [
    "# Parte 2: Extracción de Características\n",
    "## Se emplea en conjunto pandas y las librerías de skimage (usada para extraer características y manipulación de  imágenes) con el fin de extraer las características más fundamentales de las imágenes. Para esto usaré la técnica de la Gray Level Co-occurence Matrix, una de las técnica que expliqué en mis primeras presentaciones. "
   ]
  },
  {
   "cell_type": "code",
   "execution_count": null,
   "id": "a784ee92-ff48-4cb8-bcc0-5656a2fe1a71",
   "metadata": {},
   "outputs": [],
   "source": []
  }
 ],
 "metadata": {
  "kernelspec": {
   "display_name": "Python 3 (ipykernel)",
   "language": "python",
   "name": "python3"
  },
  "language_info": {
   "codemirror_mode": {
    "name": "ipython",
    "version": 3
   },
   "file_extension": ".py",
   "mimetype": "text/x-python",
   "name": "python",
   "nbconvert_exporter": "python",
   "pygments_lexer": "ipython3",
   "version": "3.12.3"
  }
 },
 "nbformat": 4,
 "nbformat_minor": 5
}
